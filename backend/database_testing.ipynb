{
 "cells": [
  {
   "cell_type": "code",
   "execution_count": 2,
   "metadata": {},
   "outputs": [
    {
     "name": "stdout",
     "output_type": "stream",
     "text": [
      "Database Initialized - Connected to databases: project-database, admin, local\n"
     ]
    }
   ],
   "source": [
    "# Import dotenv and try to load a file in the same directory as this file\n",
    "from dotenv import load_dotenv\n",
    "load_dotenv()\n",
    "\n",
    "import database"
   ]
  },
  {
   "cell_type": "code",
   "execution_count": 3,
   "metadata": {},
   "outputs": [
    {
     "data": {
      "text/plain": [
       "{'project_id': 'test-project-2',\n",
       " 'username': 'ianjenatz',\n",
       " 'projectName': 'Project 1',\n",
       " 'projectDescription': 'This is the first project',\n",
       " '_id': ObjectId('64c061ecad8cc9695fdb6bed')}"
      ]
     },
     "execution_count": 3,
     "metadata": {},
     "output_type": "execute_result"
    }
   ],
   "source": [
    "database.addProject(\"test-project-2\", \"ianjenatz\", \"Project 1\", \"This is the first project\")"
   ]
  },
  {
   "cell_type": "code",
   "execution_count": 4,
   "metadata": {},
   "outputs": [
    {
     "data": {
      "text/plain": [
       "{'_id': ObjectId('64c061ecad8cc9695fdb6bed'),\n",
       " 'project_id': 'test-project-2',\n",
       " 'username': 'ianjenatz',\n",
       " 'projectName': 'Project 1',\n",
       " 'projectDescription': 'This is the first project'}"
      ]
     },
     "execution_count": 4,
     "metadata": {},
     "output_type": "execute_result"
    }
   ],
   "source": [
    "database.findProject(\"test-project-2\")"
   ]
  },
  {
   "cell_type": "code",
   "execution_count": 5,
   "metadata": {},
   "outputs": [
    {
     "data": {
      "text/plain": [
       "{'username': 'test-user',\n",
       " 'password': 'dfb450efddbb5387197c84460623675b',\n",
       " '_id': ObjectId('64c06452ad8cc9695fdb6bee')}"
      ]
     },
     "execution_count": 5,
     "metadata": {},
     "output_type": "execute_result"
    }
   ],
   "source": [
    "database.addUser(\"test-user\", \"test-password\")"
   ]
  },
  {
   "cell_type": "code",
   "execution_count": 6,
   "metadata": {},
   "outputs": [
    {
     "data": {
      "text/plain": [
       "{'_id': ObjectId('64c06452ad8cc9695fdb6bee'),\n",
       " 'username': 'test-user',\n",
       " 'password': 'dfb450efddbb5387197c84460623675b'}"
      ]
     },
     "execution_count": 6,
     "metadata": {},
     "output_type": "execute_result"
    }
   ],
   "source": [
    "database.findUser(\"test-user\")"
   ]
  },
  {
   "cell_type": "code",
   "execution_count": 3,
   "metadata": {},
   "outputs": [
    {
     "data": {
      "text/plain": [
       "{'checkedOut_id': 'test-resource-1',\n",
       " 'project_id': 'test-project-2',\n",
       " 'hardware_id': 'test-hardware-1',\n",
       " 'checkedOut': True,\n",
       " '_id': ObjectId('64c064d1deeb16a87a97e8ad')}"
      ]
     },
     "execution_count": 3,
     "metadata": {},
     "output_type": "execute_result"
    }
   ],
   "source": [
    "database.addResource(\"test-resource-1\", \"test-project-2\", \"test-hardware-1\", True)"
   ]
  },
  {
   "cell_type": "code",
   "execution_count": 4,
   "metadata": {},
   "outputs": [
    {
     "data": {
      "text/plain": [
       "{'_id': ObjectId('64c064d1deeb16a87a97e8ad'),\n",
       " 'checkedOut_id': 'test-resource-1',\n",
       " 'project_id': 'test-project-2',\n",
       " 'hardware_id': 'test-hardware-1',\n",
       " 'checkedOut': True}"
      ]
     },
     "execution_count": 4,
     "metadata": {},
     "output_type": "execute_result"
    }
   ],
   "source": [
    "database.findResource(\"test-resource-1\")"
   ]
  },
  {
   "cell_type": "code",
   "execution_count": 9,
   "metadata": {},
   "outputs": [
    {
     "data": {
      "text/plain": [
       "{'hardware_id': 'test-hardware-1',\n",
       " 'maxAmount': 10,\n",
       " 'availableAmount': 10,\n",
       " '_id': ObjectId('64c0647cad8cc9695fdb6bf0')}"
      ]
     },
     "execution_count": 9,
     "metadata": {},
     "output_type": "execute_result"
    }
   ],
   "source": [
    "database.addHardware(\"test-hardware-1\", 10, 10)"
   ]
  },
  {
   "cell_type": "code",
   "execution_count": 10,
   "metadata": {},
   "outputs": [
    {
     "data": {
      "text/plain": [
       "{'_id': ObjectId('64c0647cad8cc9695fdb6bf0'),\n",
       " 'hardware_id': 'test-hardware-1',\n",
       " 'maxAmount': 10,\n",
       " 'availableAmount': 10}"
      ]
     },
     "execution_count": 10,
     "metadata": {},
     "output_type": "execute_result"
    }
   ],
   "source": [
    "database.findHardware(\"test-hardware-1\")"
   ]
  }
 ],
 "metadata": {
  "kernelspec": {
   "display_name": "Python 3",
   "language": "python",
   "name": "python3"
  },
  "language_info": {
   "codemirror_mode": {
    "name": "ipython",
    "version": 3
   },
   "file_extension": ".py",
   "mimetype": "text/x-python",
   "name": "python",
   "nbconvert_exporter": "python",
   "pygments_lexer": "ipython3",
   "version": "3.11.4"
  },
  "orig_nbformat": 4
 },
 "nbformat": 4,
 "nbformat_minor": 2
}
