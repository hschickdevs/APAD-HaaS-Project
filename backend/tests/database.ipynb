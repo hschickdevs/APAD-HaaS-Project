{
 "cells": [
  {
   "cell_type": "markdown",
   "metadata": {},
   "source": [
    "## MUST PROVIDE `.env` IN THE `/tests` DIRECTORY"
   ]
  },
  {
   "cell_type": "code",
   "execution_count": 1,
   "metadata": {},
   "outputs": [
    {
     "name": "stdout",
     "output_type": "stream",
     "text": [
      "Database Initialized - Connected to databases: project-database, admin, local\n"
     ]
    }
   ],
   "source": [
    "# Import dotenv and try to load a file in the same directory as this file\n",
    "from dotenv import load_dotenv\n",
    "load_dotenv()\n",
    "\n",
    "# Import database from parent dir\n",
    "import sys\n",
    "sys.path.append('../')\n",
    "import database"
   ]
  },
  {
   "cell_type": "code",
   "execution_count": 2,
   "metadata": {},
   "outputs": [
    {
     "data": {
      "text/plain": [
       "{'username': 'ipynb-user',\n",
       " 'password': 'test-password',\n",
       " '_id': ObjectId('64c9d24962d2509192537a48')}"
      ]
     },
     "execution_count": 2,
     "metadata": {},
     "output_type": "execute_result"
    }
   ],
   "source": [
    "database.addUser(\"ipynb-user\", \"test-password\")"
   ]
  },
  {
   "cell_type": "code",
   "execution_count": 3,
   "metadata": {},
   "outputs": [
    {
     "data": {
      "text/plain": [
       "{'username': 'ipynb-user', 'password': 'test-password'}"
      ]
     },
     "execution_count": 3,
     "metadata": {},
     "output_type": "execute_result"
    }
   ],
   "source": [
    "database.findUser(\"ipynb-user\")"
   ]
  },
  {
   "cell_type": "code",
   "execution_count": 4,
   "metadata": {},
   "outputs": [
    {
     "data": {
      "text/plain": [
       "{'project_id': 'ipynb-project-test',\n",
       " 'username': 'ipynb-user',\n",
       " 'projectName': 'Project test 1',\n",
       " 'projectDescription': 'This is a test project',\n",
       " '_id': ObjectId('64c9d25c62d2509192537a49')}"
      ]
     },
     "execution_count": 4,
     "metadata": {},
     "output_type": "execute_result"
    }
   ],
   "source": [
    "database.addProject(\"ipynb-project-test\", \"ipynb-user\", \"Project test 1\", \"This is a test project\")"
   ]
  },
  {
   "cell_type": "code",
   "execution_count": 5,
   "metadata": {},
   "outputs": [
    {
     "data": {
      "text/plain": [
       "{'project_id': 'ipynb-project-test',\n",
       " 'username': 'ipynb-user',\n",
       " 'projectName': 'Project test 1',\n",
       " 'projectDescription': 'This is a test project'}"
      ]
     },
     "execution_count": 5,
     "metadata": {},
     "output_type": "execute_result"
    }
   ],
   "source": [
    "database.findProject(\"ipynb-project-test\")"
   ]
  },
  {
   "cell_type": "code",
   "execution_count": 6,
   "metadata": {},
   "outputs": [
    {
     "data": {
      "text/plain": [
       "{'hardware_id': 'ipynb-test-hardware-1',\n",
       " 'maxAmount': 100,\n",
       " 'availableAmount': 100,\n",
       " '_id': ObjectId('64c9d26262d2509192537a4a')}"
      ]
     },
     "execution_count": 6,
     "metadata": {},
     "output_type": "execute_result"
    }
   ],
   "source": [
    "database.addHardware(\"ipynb-test-hardware-1\", 100, 100)"
   ]
  },
  {
   "cell_type": "code",
   "execution_count": 7,
   "metadata": {},
   "outputs": [
    {
     "data": {
      "text/plain": [
       "{'hardware_id': 'ipynb-test-hardware-1',\n",
       " 'maxAmount': 100,\n",
       " 'availableAmount': 100}"
      ]
     },
     "execution_count": 7,
     "metadata": {},
     "output_type": "execute_result"
    }
   ],
   "source": [
    "database.findHardware(\"ipynb-test-hardware-1\")"
   ]
  },
  {
   "cell_type": "code",
   "execution_count": 8,
   "metadata": {},
   "outputs": [
    {
     "data": {
      "text/plain": [
       "[{'hardware_id': 'hardware-1', 'maxAmount': 200, 'availableAmount': 200},\n",
       " {'hardware_id': 'hardware-2', 'maxAmount': 100, 'availableAmount': 100},\n",
       " {'hardware_id': 'ipynb-test-hardware-1',\n",
       "  'maxAmount': 100,\n",
       "  'availableAmount': 100}]"
      ]
     },
     "execution_count": 8,
     "metadata": {},
     "output_type": "execute_result"
    }
   ],
   "source": [
    "database.findAllHardware()"
   ]
  },
  {
   "cell_type": "code",
   "execution_count": 9,
   "metadata": {},
   "outputs": [
    {
     "data": {
      "text/plain": [
       "{'hardware_id': 'ipynb-test-hardware-1', 'availableAmount': 50}"
      ]
     },
     "execution_count": 9,
     "metadata": {},
     "output_type": "execute_result"
    }
   ],
   "source": [
    "database.updateHardware(\"ipynb-test-hardware-1\", 50)"
   ]
  },
  {
   "cell_type": "code",
   "execution_count": 10,
   "metadata": {},
   "outputs": [
    {
     "data": {
      "text/plain": [
       "{'checkedOut_id': 'ipynb-test-resource-1',\n",
       " 'project_id': 'ipynb-project-test',\n",
       " 'hardware_id': 'hardware-1',\n",
       " 'checkedOut': 100,\n",
       " '_id': ObjectId('64c9d27162d2509192537a4b')}"
      ]
     },
     "execution_count": 10,
     "metadata": {},
     "output_type": "execute_result"
    }
   ],
   "source": [
    "database.addResource(\"ipynb-test-resource-1\", \"ipynb-project-test\", \"hardware-1\", 100)"
   ]
  },
  {
   "cell_type": "code",
   "execution_count": 11,
   "metadata": {},
   "outputs": [
    {
     "data": {
      "text/plain": [
       "{'checkedOut_id': 'ipynb-test-resource-1',\n",
       " 'project_id': 'ipynb-project-test',\n",
       " 'hardware_id': 'hardware-1',\n",
       " 'checkedOut': 100}"
      ]
     },
     "execution_count": 11,
     "metadata": {},
     "output_type": "execute_result"
    }
   ],
   "source": [
    "database.findResource(\"ipynb-test-resource-1\")"
   ]
  },
  {
   "cell_type": "code",
   "execution_count": 12,
   "metadata": {},
   "outputs": [
    {
     "data": {
      "text/plain": [
       "{'project_id': 'ipynb-test-resource-1',\n",
       " 'hardware_id': 'hardware-1',\n",
       " 'checkedOut': 50}"
      ]
     },
     "execution_count": 12,
     "metadata": {},
     "output_type": "execute_result"
    }
   ],
   "source": [
    "database.upsertResource(\"ipynb-test-resource-1\", \"hardware-1\", 50)"
   ]
  },
  {
   "cell_type": "code",
   "execution_count": 13,
   "metadata": {},
   "outputs": [
    {
     "data": {
      "text/plain": [
       "[{'checkedOut_id': 'ipynb-test-resource-1',\n",
       "  'project_id': 'ipynb-project-test',\n",
       "  'hardware_id': 'hardware-1',\n",
       "  'checkedOut': 100}]"
      ]
     },
     "execution_count": 13,
     "metadata": {},
     "output_type": "execute_result"
    }
   ],
   "source": [
    "database.findProjectResources(\"ipynb-project-test\")"
   ]
  }
 ],
 "metadata": {
  "kernelspec": {
   "display_name": "Python 3",
   "language": "python",
   "name": "python3"
  },
  "language_info": {
   "codemirror_mode": {
    "name": "ipython",
    "version": 3
   },
   "file_extension": ".py",
   "mimetype": "text/x-python",
   "name": "python",
   "nbconvert_exporter": "python",
   "pygments_lexer": "ipython3",
   "version": "3.11.4"
  },
  "orig_nbformat": 4
 },
 "nbformat": 4,
 "nbformat_minor": 2
}
