{
 "cells": [
  {
   "cell_type": "markdown",
   "metadata": {},
   "source": [
    "## MUST PROVIDE `.ENV` IN THE `/tests` DIRECTORY"
   ]
  },
  {
   "cell_type": "code",
   "execution_count": 3,
   "metadata": {},
   "outputs": [],
   "source": [
    "# Import dotenv and try to load a file in the same directory as this file\n",
    "from dotenv import load_dotenv\n",
    "load_dotenv()\n",
    "\n",
    "import requests"
   ]
  },
  {
   "cell_type": "markdown",
   "metadata": {},
   "source": [
    "## Register User Method\n",
    "\n",
    "### `[POST] /api/register`"
   ]
  },
  {
   "cell_type": "code",
   "execution_count": 7,
   "metadata": {},
   "outputs": [
    {
     "data": {
      "text/plain": [
       "{'msg': 'User registered successfully!',\n",
       " 'user': {'password': 'testPassword', 'username': 'testUser'}}"
      ]
     },
     "execution_count": 7,
     "metadata": {},
     "output_type": "execute_result"
    }
   ],
   "source": [
    "requests.post(\"http://127.0.0.1:5000/api/register\", json={\"username\":\"testUser\",\"password\":\"testPassword\"}).json()"
   ]
  },
  {
   "cell_type": "markdown",
   "metadata": {},
   "source": [
    "## Login User Method\n",
    "\n",
    "### `[POST] /api/login`"
   ]
  },
  {
   "cell_type": "code",
   "execution_count": 5,
   "metadata": {},
   "outputs": [],
   "source": [
    "r = requests.post(\"http://127.0.0.1:5000/api/login\", json={\"username\":\"testUser\",\"password\":\"testPassword\"}).json()"
   ]
  },
  {
   "cell_type": "markdown",
   "metadata": {},
   "source": [
    "On success, returns the JWT token to access protected API endpoints like so:\n",
    "\n",
    "```json\n",
    "{\n",
    "    \"access_token\": \"JWT_ACCESS_TOKEN\",\n",
    "}\n",
    "```"
   ]
  },
  {
   "cell_type": "markdown",
   "metadata": {},
   "source": [
    "## Delete Project Method\n",
    "\n",
    "### `[POST] /api/delete_project`"
   ]
  },
  {
   "cell_type": "code",
   "execution_count": 9,
   "metadata": {},
   "outputs": [
    {
     "data": {
      "text/plain": [
       "{'msg': 'Project deleted successfully!'}"
      ]
     },
     "execution_count": 9,
     "metadata": {},
     "output_type": "execute_result"
    }
   ],
   "source": [
    "auth = requests.post(\"http://127.0.0.1:5000/api/login\", json={\"username\":\"testUser\",\"password\":\"testPassword\"}).json()[\"access_token\"]\n",
    "\n",
    "headers = {\"Authorization\": \"Bearer \" + auth}\n",
    "\n",
    "requests.post(\"http://127.0.0.1:5000/api/delete_project\", json={\"project_id\": \"12345\"}, headers=headers).json()"
   ]
  },
  {
   "cell_type": "code",
   "execution_count": null,
   "metadata": {},
   "outputs": [],
   "source": []
  }
 ],
 "metadata": {
  "kernelspec": {
   "display_name": "Python 3",
   "language": "python",
   "name": "python3"
  },
  "language_info": {
   "codemirror_mode": {
    "name": "ipython",
    "version": 3
   },
   "file_extension": ".py",
   "mimetype": "text/x-python",
   "name": "python",
   "nbconvert_exporter": "python",
   "pygments_lexer": "ipython3",
   "version": "3.9.12"
  },
  "orig_nbformat": 4
 },
 "nbformat": 4,
 "nbformat_minor": 2
}
